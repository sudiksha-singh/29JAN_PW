{
  "nbformat": 4,
  "nbformat_minor": 0,
  "metadata": {
    "colab": {
      "provenance": []
    },
    "kernelspec": {
      "name": "python3",
      "display_name": "Python 3"
    },
    "language_info": {
      "name": "python"
    }
  },
  "cells": [
    {
      "cell_type": "markdown",
      "source": [
        "1. **Who developed Python Programming Language?**\n",
        "   - **Guido van Rossum** developed Python in the late 1980s, and it was released in 1991.\n",
        "\n",
        "2. **Which type of Programming does Python support?**\n",
        "   - Python supports **multiple programming paradigms** including **object-oriented, procedural, and functional programming**.\n",
        "\n",
        "3. **Is Python case sensitive when dealing with identifiers?**\n",
        "   - Yes, **Python is case sensitive**.\n",
        "\n",
        "4. **What is the correct extension of the Python file?**\n",
        "   - The correct file extension for Python files is **`.py`**.\n",
        "\n",
        "5. **Is Python code compiled or interpreted?**\n",
        "   - Python is an **interpreted language**.\n",
        "\n",
        "6. **Name a few blocks of code used to define in Python language?**\n",
        "   - Some blocks of code used in Python include **functions, classes, and conditional statements** (`if`, `else`, `elif`).\n",
        "\n",
        "7. **State a character used to give single-line comments in Python?**\n",
        "   - The character **`#`** is used for single-line comments in Python.\n",
        "\n",
        "8. **Mention functions which can help us to find the version of Python that we are currently working on?**\n",
        "   - You can use **`sys.version`** or **`platform.python_version()`** to find the Python version.\n",
        "\n",
        "9. **Python supports the creation of anonymous functions at runtime, using a construct called**\n",
        "   - **`lambda`**.\n",
        "\n",
        "10. **What does pip stand for in Python?**\n",
        "    - **`pip`** stands for **\"Pip Installs Packages\"** or \"Preferred Installer Program.\"\n",
        "\n",
        "11. **Mention a few built-in functions in Python?**\n",
        "    - Examples of built-in functions include **`print()`, `len()`, `type()`, `input()`, `sum()`, and `max()`**.\n",
        "\n",
        "12. **What is the maximum possible length of an identifier in Python?**\n",
        "    - There is no strict limit, but practical limits are generally **79 characters** according to PEP 8 style guidelines.\n",
        "\n",
        "13. **What are the benefits of using Python?**\n",
        "    - Python is known for its **readability, ease of learning, large standard library, community support, cross-platform compatibility, and versatility** in various applications like web development, data science, automation, and more.\n",
        "\n",
        "14. **How is memory managed in Python?**\n",
        "    - Python uses **automatic memory management** with **garbage collection** and **reference counting** for efficient memory usage.\n",
        "\n",
        "15. **How to install Python on Windows and set path variables?**\n",
        "    - To install Python, download the installer from [python.org](https://python.org), run it, and check the box that says **“Add Python to PATH”** during installation. Alternatively, you can manually add Python to the PATH environment variable.\n",
        "\n",
        "16. **Is indentation required in Python?**\n",
        "    - Yes, **indentation is required** in Python as it defines code blocks."
      ],
      "metadata": {
        "id": "_Fu8lUoTfzUz"
      }
    }
  ]
}